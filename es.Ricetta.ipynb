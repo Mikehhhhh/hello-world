{
 "cells": [
  {
   "cell_type": "markdown",
   "id": "c523e2e1-a6b5-4796-94cc-f035d3dbc99c",
   "metadata": {},
   "source": [
    "# **FRENCH TOAST**"
   ]
  },
  {
   "cell_type": "markdown",
   "id": "811a5621-b32b-4205-9e64-c0073e3ff80d",
   "metadata": {},
   "source": [
    "----------------"
   ]
  },
  {
   "cell_type": "markdown",
   "id": "4a0e2b1c-7a1b-4cf3-b736-5fb9db541444",
   "metadata": {},
   "source": [
    "<img src=\"https://www.giallozafferano.it/images/165-16590/French-toast_450x300.jpg\" width=350>"
   ]
  },
  {
   "cell_type": "markdown",
   "id": "2ba36910-6790-4d75-be5e-3762b7aec57f",
   "metadata": {
    "tags": []
   },
   "source": [
    "*Ricetta toast alla francese per 2 persone.*"
   ]
  },
  {
   "cell_type": "markdown",
   "id": "27615aa5-792d-46f1-ab08-3a481ed348fc",
   "metadata": {},
   "source": [
    "#### *Ingredienti:*"
   ]
  },
  {
   "cell_type": "code",
   "execution_count": 11,
   "id": "f912ecd7-d0cb-40c9-9a6c-b7a8a3ca6fc7",
   "metadata": {},
   "outputs": [],
   "source": [
    "n=2"
   ]
  },
  {
   "cell_type": "code",
   "execution_count": 20,
   "id": "9d3a9844-2ca4-4bfc-b45b-f4e708e6b126",
   "metadata": {
    "tags": []
   },
   "outputs": [
    {
     "name": "stdout",
     "output_type": "stream",
     "text": [
      "Fette pan brioche 6\n"
     ]
    }
   ],
   "source": [
    "pane=3*n\n",
    "print(\"Fette pan brioche\", pane)"
   ]
  },
  {
   "cell_type": "code",
   "execution_count": 21,
   "id": "9364ac56-3146-43a9-bc76-1332532f5341",
   "metadata": {},
   "outputs": [
    {
     "name": "stdout",
     "output_type": "stream",
     "text": [
      "Numero uova 2\n"
     ]
    }
   ],
   "source": [
    "uova=1*n\n",
    "print(\"Numero uova\", uova)"
   ]
  },
  {
   "cell_type": "code",
   "execution_count": 27,
   "id": "23768069-0261-4779-8415-f0eaef438246",
   "metadata": {},
   "outputs": [
    {
     "name": "stdout",
     "output_type": "stream",
     "text": [
      "Burro gr 100\n"
     ]
    }
   ],
   "source": [
    "burro=50*n\n",
    "print(\"Burro gr\", burro)"
   ]
  },
  {
   "cell_type": "code",
   "execution_count": 26,
   "id": "d96e97d4-cf0c-4890-a4e7-86b6df67e71b",
   "metadata": {},
   "outputs": [
    {
     "name": "stdout",
     "output_type": "stream",
     "text": [
      "Latte intero gr 100\n"
     ]
    }
   ],
   "source": [
    "latte=50*n\n",
    "print(\"Latte intero gr\", latte)"
   ]
  },
  {
   "cell_type": "markdown",
   "id": "55273f2d-2153-4708-b73a-670ec1e2a791",
   "metadata": {
    "tags": []
   },
   "source": [
    "#### *Per guarnire:*"
   ]
  },
  {
   "cell_type": "markdown",
   "id": "4f42e402-439b-425c-b2ba-eb79f95c306f",
   "metadata": {},
   "source": [
    "1. Sciroppo d'acero: q.b.\n",
    "2. Zucchero a velo: q.b.\n",
    "3. Burro: q.b.\n",
    "4. Mirtilli: q.b."
   ]
  }
 ],
 "metadata": {
  "kernelspec": {
   "display_name": "Python 3 (ipykernel)",
   "language": "python",
   "name": "python3"
  },
  "language_info": {
   "codemirror_mode": {
    "name": "ipython",
    "version": 3
   },
   "file_extension": ".py",
   "mimetype": "text/x-python",
   "name": "python",
   "nbconvert_exporter": "python",
   "pygments_lexer": "ipython3",
   "version": "3.9.7"
  }
 },
 "nbformat": 4,
 "nbformat_minor": 5
}
